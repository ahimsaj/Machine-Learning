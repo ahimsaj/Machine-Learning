{
  "nbformat": 4,
  "nbformat_minor": 0,
  "metadata": {
    "colab": {
      "name": "Untitled5.ipynb",
      "provenance": [],
      "authorship_tag": "ABX9TyN2s8ycFfwagP3oXOFSLxcC",
      "include_colab_link": true
    },
    "kernelspec": {
      "name": "python3",
      "display_name": "Python 3"
    },
    "language_info": {
      "name": "python"
    }
  },
  "cells": [
    {
      "cell_type": "markdown",
      "metadata": {
        "id": "view-in-github",
        "colab_type": "text"
      },
      "source": [
        "<a href=\"https://colab.research.google.com/github/ahimsaj/Machine-Learning/blob/main/List.ipynb\" target=\"_parent\"><img src=\"https://colab.research.google.com/assets/colab-badge.svg\" alt=\"Open In Colab\"/></a>"
      ]
    },
    {
      "cell_type": "code",
      "source": [
        "li=[1,2,3,4,5]\n",
        "print(li)"
      ],
      "metadata": {
        "colab": {
          "base_uri": "https://localhost:8080/"
        },
        "id": "IpnJACPcKx52",
        "outputId": "1c682f13-ea78-4813-9153-84a6952f59c0"
      },
      "execution_count": 1,
      "outputs": [
        {
          "output_type": "stream",
          "name": "stdout",
          "text": [
            "[1, 2, 3, 4, 5]\n"
          ]
        }
      ]
    },
    {
      "cell_type": "code",
      "source": [
        "li=[5,7,1,9,3,5]\n",
        "li.sort()\n",
        "print(li)"
      ],
      "metadata": {
        "colab": {
          "base_uri": "https://localhost:8080/"
        },
        "id": "052gRDkvK150",
        "outputId": "f53b3686-60c7-4e41-888c-30770e2d15bd"
      },
      "execution_count": 2,
      "outputs": [
        {
          "output_type": "stream",
          "name": "stdout",
          "text": [
            "[1, 3, 5, 5, 7, 9]\n"
          ]
        }
      ]
    },
    {
      "cell_type": "code",
      "source": [
        "li=[5,7,1,9,3,5]\n",
        "print(sorted(li))"
      ],
      "metadata": {
        "colab": {
          "base_uri": "https://localhost:8080/"
        },
        "id": "BoMqrHDFK6Xl",
        "outputId": "837dd946-2758-4094-fc3b-fa8d95466e10"
      },
      "execution_count": 3,
      "outputs": [
        {
          "output_type": "stream",
          "name": "stdout",
          "text": [
            "[1, 3, 5, 5, 7, 9]\n"
          ]
        }
      ]
    },
    {
      "cell_type": "code",
      "source": [
        "li.append(\"ahimsa\")\n",
        "print(li)"
      ],
      "metadata": {
        "colab": {
          "base_uri": "https://localhost:8080/"
        },
        "id": "5QZzRqA2K8kt",
        "outputId": "d3fcc5eb-33fc-4681-f5b8-34d04dac51d7"
      },
      "execution_count": 4,
      "outputs": [
        {
          "output_type": "stream",
          "name": "stdout",
          "text": [
            "[5, 7, 1, 9, 3, 5, 'ahimsa']\n"
          ]
        }
      ]
    },
    {
      "cell_type": "code",
      "source": [
        "print(li[0])\n",
        "li=[\"0827CI191004\",\"Ahimsa\",6,56,90]\n",
        "print(li)"
      ],
      "metadata": {
        "colab": {
          "base_uri": "https://localhost:8080/"
        },
        "id": "4n3I5quUK_3t",
        "outputId": "f8378729-f053-4afc-cc59-396233e22f71"
      },
      "execution_count": 5,
      "outputs": [
        {
          "output_type": "stream",
          "name": "stdout",
          "text": [
            "5\n",
            "['0827CI191004', 'Ahimsa', 6, 56, 90]\n"
          ]
        }
      ]
    },
    {
      "cell_type": "code",
      "source": [
        "print(li.pop())\n",
        "print(li[:])"
      ],
      "metadata": {
        "colab": {
          "base_uri": "https://localhost:8080/"
        },
        "id": "1-DTyzGxLGGo",
        "outputId": "6c51eb82-dc15-4b54-aba5-e86de086a981"
      },
      "execution_count": 6,
      "outputs": [
        {
          "output_type": "stream",
          "name": "stdout",
          "text": [
            "90\n",
            "['0827CI191004', 'Ahimsa', 6, 56]\n"
          ]
        }
      ]
    },
    {
      "cell_type": "code",
      "source": [
        "a=[1,2,3,4,5]\n",
        "print(max(a))\n",
        "print(min(a))\n",
        "li.reverse()\n",
        "print(li)\n",
        "c=list(reversed(li))\n",
        "print(c)\n",
        "b=li[0:3]\n",
        "print(b)"
      ],
      "metadata": {
        "colab": {
          "base_uri": "https://localhost:8080/"
        },
        "id": "bJTDOLBdLIv_",
        "outputId": "9edd5e60-9181-4eb6-ca07-5b58b412d6ef"
      },
      "execution_count": 7,
      "outputs": [
        {
          "output_type": "stream",
          "name": "stdout",
          "text": [
            "5\n",
            "1\n",
            "[56, 6, 'Ahimsa', '0827CI191004']\n",
            "['0827CI191004', 'Ahimsa', 6, 56]\n",
            "[56, 6, 'Ahimsa']\n"
          ]
        }
      ]
    },
    {
      "cell_type": "code",
      "source": [
        "a.append(1)\n",
        "print(a)\n",
        "\n",
        "a.extend([\"ahimsa\",\"jain\"])\n",
        "print(a)\n",
        "\n",
        "print(a[: :-1])"
      ],
      "metadata": {
        "colab": {
          "base_uri": "https://localhost:8080/"
        },
        "id": "DGBaMrhXLMeY",
        "outputId": "f4b270fe-6967-4bde-84db-744292a8999a"
      },
      "execution_count": 8,
      "outputs": [
        {
          "output_type": "stream",
          "name": "stdout",
          "text": [
            "[1, 2, 3, 4, 5, 1]\n",
            "[1, 2, 3, 4, 5, 1, 'ahimsa', 'jain']\n",
            "['jain', 'ahimsa', 1, 5, 4, 3, 2, 1]\n"
          ]
        }
      ]
    },
    {
      "cell_type": "code",
      "source": [
        "t=(1,2,3,4)\n",
        "print(t)\n",
        "\n",
        "t1=(3,4,5,6)\n",
        "t+t1\n",
        "\n",
        "lis=[0,1,2,3,4,5,6,7,8,9,10,11,12,13,14,15,16,17,18,19,20]\n",
        "print(lis[::2])\n",
        "print(lis[::-2],\"------\")\n",
        "print(lis[3::-1])\n",
        "print(lis[12:0:-2])\n",
        "\n",
        "t3=[i for i in t1 if i%2==0]\n",
        "print(t3)"
      ],
      "metadata": {
        "colab": {
          "base_uri": "https://localhost:8080/"
        },
        "id": "w1hCzsj4LRUR",
        "outputId": "bc61a6c6-38df-444a-f748-227e212225ed"
      },
      "execution_count": 9,
      "outputs": [
        {
          "output_type": "stream",
          "name": "stdout",
          "text": [
            "(1, 2, 3, 4)\n",
            "[0, 2, 4, 6, 8, 10, 12, 14, 16, 18, 20]\n",
            "[20, 18, 16, 14, 12, 10, 8, 6, 4, 2, 0] ------\n",
            "[3, 2, 1, 0]\n",
            "[12, 10, 8, 6, 4, 2]\n",
            "[4, 6]\n"
          ]
        }
      ]
    }
  ]
}